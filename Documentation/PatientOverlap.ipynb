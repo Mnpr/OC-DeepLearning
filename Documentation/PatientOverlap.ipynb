{
 "cells": [
  {
   "cell_type": "markdown",
   "metadata": {},
   "source": [
    "# Patient Overlap | Data Leckage\n",
    "\n",
    "- PatientID appears both in `training` and `validation` sets\n"
   ]
  },
  {
   "cell_type": "code",
   "execution_count": 2,
   "metadata": {},
   "outputs": [],
   "source": [
    "import os\n",
    "import numpy as np\n",
    "import pandas as pd\n",
    "import seaborn as sns\n",
    "import matplotlib.pyplot as plt\n",
    "\n",
    "%matplotlib inline\n",
    "sns.set()"
   ]
  },
  {
   "cell_type": "markdown",
   "metadata": {},
   "source": [
    "## Traing and Validation Dataset"
   ]
  },
  {
   "cell_type": "code",
   "execution_count": 3,
   "metadata": {},
   "outputs": [
    {
     "output_type": "stream",
     "name": "stdout",
     "text": [
      "Shape of train Dataframe:  (1000, 16)\nShape of validation Dataframe:  (109, 16)\n"
     ]
    }
   ],
   "source": [
    "# Read Dataset\n",
    "train_df = pd.read_csv('Dataset/train-small.csv')\n",
    "print('Shape of train Dataframe: ',train_df.shape)\n",
    "\n",
    "valid_df = pd.read_csv('Dataset/valid-small.csv')\n",
    "print('Shape of validation Dataframe: ',valid_df.shape)"
   ]
  },
  {
   "cell_type": "markdown",
   "metadata": {},
   "source": [
    "### Overlaps"
   ]
  },
  {
   "cell_type": "code",
   "execution_count": 4,
   "metadata": {},
   "outputs": [
    {
     "output_type": "stream",
     "name": "stdout",
     "text": [
      "Unique Patients Train:  928\nUnique Patients Valid:  97\n\nOverlaping PIDs:\n[20290, 27618, 9925, 10888, 22764, 19981, 18253, 4461, 28208, 8760, 7482]\nNo. of Overlaps: 11\n"
     ]
    }
   ],
   "source": [
    "# 1. Extract Patient Ids for train and val\n",
    "pid_train = train_df.PatientId.values\n",
    "pid_valid = valid_df.PatientId.values\n",
    "\n",
    "# 2. Convert Array -> Set {collection of unique instance of elements}\n",
    "train_set_pid = set(pid_train)\n",
    "valid_set_pid = set(pid_valid)\n",
    "\n",
    "print('Unique Patients Train: ', len(train_set_pid))\n",
    "print('Unique Patients Valid: ', len(valid_set_pid))\n",
    "\n",
    "# 3. Intersection of those two sets => Overlaping patients\n",
    "overlap_pid = list(train_set_pid.intersection(valid_set_pid))\n",
    "n_overlap = len(overlap_pid)\n",
    "\n",
    "print(f'\\nOverlaping PIDs:\\n{overlap_pid}')\n",
    "print('No. of Overlaps:', n_overlap)"
   ]
  },
  {
   "cell_type": "markdown",
   "metadata": {},
   "source": [
    "### Identify and Remove from either(train, valid) set."
   ]
  },
  {
   "cell_type": "code",
   "execution_count": 5,
   "metadata": {},
   "outputs": [
    {
     "output_type": "stream",
     "name": "stdout",
     "text": [
      "Overlaping indices in Train Set:\n[306, 186, 797, 98, 408, 917, 327, 913, 10, 51, 276]\n\nOverlaping indices in Valid Set:\n[104, 88, 65, 13, 2, 41, 56, 70, 26, 75, 20, 52, 55]\n"
     ]
    }
   ],
   "source": [
    "# Accumulate indices of overlaps\n",
    "train_olap_indices = []\n",
    "valid_olap_indices = []\n",
    "\n",
    "for idx in range (n_overlap):\n",
    "    train_olap_indices.extend(train_df.index[train_df['PatientId'] == overlap_pid[idx]].tolist())\n",
    "    valid_olap_indices.extend(valid_df.index[valid_df['PatientId'] == overlap_pid[idx]].tolist())\n",
    "    \n",
    "print(f'Overlaping indices in Train Set:\\n{train_olap_indices}')\n",
    "print(f'\\nOverlaping indices in Valid Set:\\n{valid_olap_indices}')"
   ]
  },
  {
   "cell_type": "code",
   "execution_count": 6,
   "metadata": {},
   "outputs": [],
   "source": [
    "# Drop the indices from validation set\n",
    "valid_df.drop(valid_olap_indices, inplace=True)"
   ]
  },
  {
   "cell_type": "markdown",
   "metadata": {},
   "source": [
    "### New Train and Valid set"
   ]
  },
  {
   "cell_type": "code",
   "execution_count": 7,
   "metadata": {},
   "outputs": [
    {
     "output_type": "stream",
     "name": "stdout",
     "text": [
      "Unique patient Valid set: 86\n"
     ]
    }
   ],
   "source": [
    "# Values in Valid set\n",
    "valid_pid = valid_df.PatientId.values\n",
    "# Unique Values in Valid set\n",
    "ids_valid_set = set(valid_pid)\n",
    "\n",
    "print('Unique patient Valid set:',len(ids_valid_set))"
   ]
  },
  {
   "cell_type": "code",
   "execution_count": 8,
   "metadata": {},
   "outputs": [
    {
     "output_type": "stream",
     "name": "stdout",
     "text": [
      "There are 0 Overlaping PatientIDs in Train and Valid sets\n"
     ]
    }
   ],
   "source": [
    "# Check Overlap\n",
    "overlap_pid = list(train_set_pid.intersection(ids_valid_set))\n",
    "n_overlap = len(overlap_pid)\n",
    "\n",
    "print(f'There are {n_overlap} Overlaping PatientIDs in Train and Valid sets')"
   ]
  },
  {
   "cell_type": "markdown",
   "metadata": {},
   "source": [
    "***"
   ]
  }
 ],
 "metadata": {
  "kernelspec": {
   "display_name": "Python 3",
   "language": "python",
   "name": "python3"
  },
  "language_info": {
   "codemirror_mode": {
    "name": "ipython",
    "version": 3
   },
   "file_extension": ".py",
   "mimetype": "text/x-python",
   "name": "python",
   "nbconvert_exporter": "python",
   "pygments_lexer": "ipython3",
   "version": "3.8.5-final"
  }
 },
 "nbformat": 4,
 "nbformat_minor": 4
}